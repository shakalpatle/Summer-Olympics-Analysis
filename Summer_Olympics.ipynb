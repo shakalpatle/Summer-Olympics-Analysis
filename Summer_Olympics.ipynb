{
  "nbformat": 4,
  "nbformat_minor": 0,
  "metadata": {
    "colab": {
      "name": "Summer Olympics.ipynb",
      "provenance": [],
      "collapsed_sections": []
    },
    "kernelspec": {
      "name": "python3",
      "display_name": "Python 3"
    },
    "language_info": {
      "name": "python"
    }
  },
  "cells": [
    {
      "cell_type": "markdown",
      "metadata": {
        "id": "UKX61T1Act3s"
      },
      "source": [
        "##Summer Olympics Data Analysis Assignment\n"
      ]
    },
    {
      "cell_type": "code",
      "metadata": {
        "id": "36p7CHRWdafG"
      },
      "source": [
        "import pandas as pd\n",
        "import numpy as np\n",
        "import matplotlib.pyplot as plt"
      ],
      "execution_count": 2,
      "outputs": []
    },
    {
      "cell_type": "code",
      "metadata": {
        "id": "RB8z99LCdea4"
      },
      "source": [
        "df = pd.read_csv(\"summer.csv\")"
      ],
      "execution_count": 4,
      "outputs": []
    },
    {
      "cell_type": "code",
      "metadata": {
        "colab": {
          "base_uri": "https://localhost:8080/",
          "height": 206
        },
        "id": "NzfmERSDdi8h",
        "outputId": "02657d2f-234c-4096-9d9d-ab8e0a1771a8"
      },
      "source": [
        "df.head()"
      ],
      "execution_count": null,
      "outputs": [
        {
          "output_type": "execute_result",
          "data": {
            "text/html": [
              "<div>\n",
              "<style scoped>\n",
              "    .dataframe tbody tr th:only-of-type {\n",
              "        vertical-align: middle;\n",
              "    }\n",
              "\n",
              "    .dataframe tbody tr th {\n",
              "        vertical-align: top;\n",
              "    }\n",
              "\n",
              "    .dataframe thead th {\n",
              "        text-align: right;\n",
              "    }\n",
              "</style>\n",
              "<table border=\"1\" class=\"dataframe\">\n",
              "  <thead>\n",
              "    <tr style=\"text-align: right;\">\n",
              "      <th></th>\n",
              "      <th>Year</th>\n",
              "      <th>City</th>\n",
              "      <th>Sport</th>\n",
              "      <th>Discipline</th>\n",
              "      <th>Athlete</th>\n",
              "      <th>Country</th>\n",
              "      <th>Gender</th>\n",
              "      <th>Event</th>\n",
              "      <th>Medal</th>\n",
              "    </tr>\n",
              "  </thead>\n",
              "  <tbody>\n",
              "    <tr>\n",
              "      <th>0</th>\n",
              "      <td>1896</td>\n",
              "      <td>Athens</td>\n",
              "      <td>Aquatics</td>\n",
              "      <td>Swimming</td>\n",
              "      <td>HAJOS, Alfred</td>\n",
              "      <td>HUN</td>\n",
              "      <td>Men</td>\n",
              "      <td>100M Freestyle</td>\n",
              "      <td>Gold</td>\n",
              "    </tr>\n",
              "    <tr>\n",
              "      <th>1</th>\n",
              "      <td>1896</td>\n",
              "      <td>Athens</td>\n",
              "      <td>Aquatics</td>\n",
              "      <td>Swimming</td>\n",
              "      <td>HERSCHMANN, Otto</td>\n",
              "      <td>AUT</td>\n",
              "      <td>Men</td>\n",
              "      <td>100M Freestyle</td>\n",
              "      <td>Silver</td>\n",
              "    </tr>\n",
              "    <tr>\n",
              "      <th>2</th>\n",
              "      <td>1896</td>\n",
              "      <td>Athens</td>\n",
              "      <td>Aquatics</td>\n",
              "      <td>Swimming</td>\n",
              "      <td>DRIVAS, Dimitrios</td>\n",
              "      <td>GRE</td>\n",
              "      <td>Men</td>\n",
              "      <td>100M Freestyle For Sailors</td>\n",
              "      <td>Bronze</td>\n",
              "    </tr>\n",
              "    <tr>\n",
              "      <th>3</th>\n",
              "      <td>1896</td>\n",
              "      <td>Athens</td>\n",
              "      <td>Aquatics</td>\n",
              "      <td>Swimming</td>\n",
              "      <td>MALOKINIS, Ioannis</td>\n",
              "      <td>GRE</td>\n",
              "      <td>Men</td>\n",
              "      <td>100M Freestyle For Sailors</td>\n",
              "      <td>Gold</td>\n",
              "    </tr>\n",
              "    <tr>\n",
              "      <th>4</th>\n",
              "      <td>1896</td>\n",
              "      <td>Athens</td>\n",
              "      <td>Aquatics</td>\n",
              "      <td>Swimming</td>\n",
              "      <td>CHASAPIS, Spiridon</td>\n",
              "      <td>GRE</td>\n",
              "      <td>Men</td>\n",
              "      <td>100M Freestyle For Sailors</td>\n",
              "      <td>Silver</td>\n",
              "    </tr>\n",
              "  </tbody>\n",
              "</table>\n",
              "</div>"
            ],
            "text/plain": [
              "   Year    City     Sport  ... Gender                       Event   Medal\n",
              "0  1896  Athens  Aquatics  ...    Men              100M Freestyle    Gold\n",
              "1  1896  Athens  Aquatics  ...    Men              100M Freestyle  Silver\n",
              "2  1896  Athens  Aquatics  ...    Men  100M Freestyle For Sailors  Bronze\n",
              "3  1896  Athens  Aquatics  ...    Men  100M Freestyle For Sailors    Gold\n",
              "4  1896  Athens  Aquatics  ...    Men  100M Freestyle For Sailors  Silver\n",
              "\n",
              "[5 rows x 9 columns]"
            ]
          },
          "metadata": {},
          "execution_count": 3
        }
      ]
    },
    {
      "cell_type": "markdown",
      "metadata": {
        "id": "a_sAhSGPc5o4"
      },
      "source": [
        "## 1. In how many cities Summer Olympics is held so far?"
      ]
    },
    {
      "cell_type": "markdown",
      "metadata": {
        "id": "PV5kA0aEeArc"
      },
      "source": [
        "Ans: 22"
      ]
    },
    {
      "cell_type": "markdown",
      "metadata": {
        "id": "s83mmdcueFbQ"
      },
      "source": [
        "Code logic:"
      ]
    },
    {
      "cell_type": "code",
      "metadata": {
        "id": "nXZogP7dcxPp",
        "colab": {
          "base_uri": "https://localhost:8080/"
        },
        "outputId": "93211922-d1d9-45b2-aa43-9b69626c4ddb"
      },
      "source": [
        "len(df['City'].unique()) #Name of the cities"
      ],
      "execution_count": 26,
      "outputs": [
        {
          "output_type": "execute_result",
          "data": {
            "text/plain": [
              "22"
            ]
          },
          "metadata": {},
          "execution_count": 26
        }
      ]
    },
    {
      "cell_type": "code",
      "metadata": {
        "colab": {
          "base_uri": "https://localhost:8080/"
        },
        "id": "4CAsZXeaENZK",
        "outputId": "9ca86036-dc31-4f1c-8f5e-703b4579d013"
      },
      "source": [
        "print(\"Following are the cities olympics has been held:\\n\\n\",(df['City'].unique()))"
      ],
      "execution_count": 30,
      "outputs": [
        {
          "output_type": "stream",
          "name": "stdout",
          "text": [
            "Following are the cities olympics has been held:\n",
            "\n",
            " ['Athens' 'Paris' 'St Louis' 'London' 'Stockholm' 'Antwerp' 'Amsterdam'\n",
            " 'Los Angeles' 'Berlin' 'Helsinki' 'Melbourne / Stockholm' 'Rome' 'Tokyo'\n",
            " 'Mexico' 'Munich' 'Montreal' 'Moscow' 'Seoul' 'Barcelona' 'Atlanta'\n",
            " 'Sydney' 'Beijing']\n"
          ]
        }
      ]
    },
    {
      "cell_type": "markdown",
      "metadata": {
        "id": "WO87fhB-eJkh"
      },
      "source": [
        "# 2. Which sport is having most number of Gold Medals so far? (Top 5)"
      ]
    },
    {
      "cell_type": "markdown",
      "metadata": {
        "id": "DhlBi1WE0SGt"
      },
      "source": [
        "Ans: Aquatics"
      ]
    },
    {
      "cell_type": "markdown",
      "metadata": {
        "id": "SoE_HVSZ0WID"
      },
      "source": [
        "Code Logic"
      ]
    },
    {
      "cell_type": "code",
      "metadata": {
        "colab": {
          "base_uri": "https://localhost:8080/",
          "height": 507
        },
        "id": "cxZYsz9Tg9da",
        "outputId": "bba32b0c-7b4a-46f8-9134-63cd5c7dbbba"
      },
      "source": [
        "data = df[df['Medal'] == 'Gold']\n",
        "data = data['Sport'].value_counts().head()\n",
        "\n",
        "df.loc[df['Medal'] == 'Gold', 'Sport'].value_counts().head().plot.bar(figsize=(10,5))\n",
        "print(\"Sports having most number of gold medals: \\n\\n\",data)"
      ],
      "execution_count": 41,
      "outputs": [
        {
          "output_type": "stream",
          "name": "stdout",
          "text": [
            "Sports having most number of gold medals: \n",
            "\n",
            " Aquatics      1421\n",
            "Athletics     1215\n",
            "Rowing         890\n",
            "Gymnastics     820\n",
            "Fencing        552\n",
            "Name: Sport, dtype: int64\n"
          ]
        },
        {
          "output_type": "display_data",
          "data": {
            "image/png": "[encoded data removed]",
            "text/plain": [
              "<Figure size 720x360 with 1 Axes>"
            ]
          },
          "metadata": {
            "needs_background": "light"
          }
        }
      ]
    },
    {
      "cell_type": "markdown",
      "metadata": {
        "id": "xoosJcgvDaQo"
      },
      "source": [
        "## 3. Which sport is having most number of medals so far? (Top 5)"
      ]
    },
    {
      "cell_type": "markdown",
      "metadata": {
        "id": "B17D-xrY0ZHy"
      },
      "source": [
        "Ans: Aquatics"
      ]
    },
    {
      "cell_type": "markdown",
      "metadata": {
        "id": "eXpb7x8C0ej6"
      },
      "source": [
        "Code Logic"
      ]
    },
    {
      "cell_type": "code",
      "metadata": {
        "colab": {
          "base_uri": "https://localhost:8080/",
          "height": 507
        },
        "id": "irqxwPSYICh-",
        "outputId": "80103fec-a3f9-4384-a07e-869dede93317"
      },
      "source": [
        "data=df['Sport'].value_counts().head()\n",
        "\n",
        "df['Sport'].value_counts().head().plot.bar(figsize=(10,5))\n",
        "print(\"Sports having most number of medals: \\n\\n\",data)"
      ],
      "execution_count": 42,
      "outputs": [
        {
          "output_type": "stream",
          "name": "stdout",
          "text": [
            "Sports having most number of medals: \n",
            "\n",
            " Aquatics      4170\n",
            "Athletics     3638\n",
            "Rowing        2667\n",
            "Gymnastics    2307\n",
            "Fencing       1613\n",
            "Name: Sport, dtype: int64\n"
          ]
        },
        {
          "output_type": "display_data",
          "data": {
            "image/png": "[encoded data removed]",
            "text/plain": [
              "<Figure size 720x360 with 1 Axes>"
            ]
          },
          "metadata": {
            "needs_background": "light"
          }
        }
      ]
    },
    {
      "cell_type": "code",
      "metadata": {
        "colab": {
          "base_uri": "https://localhost:8080/"
        },
        "id": "SkN3OjtiJhUJ",
        "outputId": "af2e6ab2-a0dd-4337-b7b9-c38e193e5c04"
      },
      "source": [
        "df.isna().sum()"
      ],
      "execution_count": 8,
      "outputs": [
        {
          "output_type": "execute_result",
          "data": {
            "text/plain": [
              "Year          0\n",
              "City          0\n",
              "Sport         0\n",
              "Discipline    0\n",
              "Athlete       0\n",
              "Country       4\n",
              "Gender        0\n",
              "Event         0\n",
              "Medal         0\n",
              "dtype: int64"
            ]
          },
          "metadata": {},
          "execution_count": 8
        }
      ]
    },
    {
      "cell_type": "markdown",
      "metadata": {
        "id": "ru_mV94xJ1y2"
      },
      "source": [
        "## 4. Which player has won most number of medals? (Top 5)"
      ]
    },
    {
      "cell_type": "markdown",
      "metadata": {
        "id": "3JBHt_P701yk"
      },
      "source": [
        "Ans: Michael Phelps"
      ]
    },
    {
      "cell_type": "markdown",
      "metadata": {
        "id": "D_jFRzHU07QG"
      },
      "source": [
        "Code Logic:"
      ]
    },
    {
      "cell_type": "code",
      "metadata": {
        "colab": {
          "base_uri": "https://localhost:8080/",
          "height": 552
        },
        "id": "gOvMBv0tJ5MW",
        "outputId": "fac83ba1-8558-4492-d73c-6f0e3b8fb5fb"
      },
      "source": [
        "data= df['Athlete'].value_counts().head()\n",
        "\n",
        "\n",
        "df['Athlete'].value_counts().head().plot.bar(figsize=(10,5))\n",
        "print(\"Players having most number of medals: \\n\\n\",data)\n"
      ],
      "execution_count": 43,
      "outputs": [
        {
          "output_type": "stream",
          "name": "stdout",
          "text": [
            "Players having most number of medals: \n",
            "\n",
            " PHELPS, Michael       22\n",
            "LATYNINA, Larisa      18\n",
            "ANDRIANOV, Nikolay    15\n",
            "SHAKHLIN, Boris       13\n",
            "ONO, Takashi          13\n",
            "Name: Athlete, dtype: int64\n"
          ]
        },
        {
          "output_type": "display_data",
          "data": {
            "image/png": "[encoded data removed]",
            "text/plain": [
              "<Figure size 720x360 with 1 Axes>"
            ]
          },
          "metadata": {
            "needs_background": "light"
          }
        }
      ]
    },
    {
      "cell_type": "markdown",
      "metadata": {
        "id": "ZVrsxF7hK9Gh"
      },
      "source": [
        "## 5. Which player has won most number Gold Medals? (Top 5)"
      ]
    },
    {
      "cell_type": "markdown",
      "metadata": {
        "id": "R7BlDubD090M"
      },
      "source": [
        "Ans: Michael Phelps"
      ]
    },
    {
      "cell_type": "markdown",
      "metadata": {
        "id": "2CsTNdho1FJp"
      },
      "source": [
        "Code Logic:"
      ]
    },
    {
      "cell_type": "code",
      "metadata": {
        "colab": {
          "base_uri": "https://localhost:8080/",
          "height": 534
        },
        "id": "Ien2NZ-cLBiY",
        "outputId": "e7e4b456-063b-4e0c-c63c-f82ee2c961e6"
      },
      "source": [
        "data = df[df['Medal'] == 'Gold']\n",
        "data = data['Athlete'].value_counts().head()\n",
        "\n",
        "df.loc[df['Medal'] == 'Gold', 'Athlete'].value_counts().head().plot.bar(figsize=(10,5))\n",
        "print(\"Player having most number of gold medals: \\n\\n\",data)"
      ],
      "execution_count": 44,
      "outputs": [
        {
          "output_type": "stream",
          "name": "stdout",
          "text": [
            "Player having most number of gold medals: \n",
            "\n",
            " PHELPS, Michael     18\n",
            "SPITZ, Mark          9\n",
            "LATYNINA, Larisa     9\n",
            "LEWIS, Carl          9\n",
            "NURMI, Paavo         9\n",
            "Name: Athlete, dtype: int64\n"
          ]
        },
        {
          "output_type": "display_data",
          "data": {
            "image/png": "[encoded data removed]",
            "text/plain": [
              "<Figure size 720x360 with 1 Axes>"
            ]
          },
          "metadata": {
            "needs_background": "light"
          }
        }
      ]
    },
    {
      "cell_type": "markdown",
      "metadata": {
        "id": "H4Md7XZ5L98g"
      },
      "source": [
        "## 6. In which year India won first Gold Medal in Summer Olympics?"
      ]
    },
    {
      "cell_type": "markdown",
      "metadata": {
        "id": "XCwTJKCp1X7S"
      },
      "source": [
        "Ans : 1928"
      ]
    },
    {
      "cell_type": "markdown",
      "metadata": {
        "id": "h1SR790s1ZmO"
      },
      "source": [
        "Code Logic:"
      ]
    },
    {
      "cell_type": "code",
      "metadata": {
        "colab": {
          "base_uri": "https://localhost:8080/"
        },
        "id": "mshkBKukO1tb",
        "outputId": "7a5dc2ef-fadf-46ed-a452-d110cb8ee772"
      },
      "source": [
        "\n",
        "\n",
        "data=df[df.Medal==\"Gold\"]\n",
        "first = min(data[data.Country==\"IND\"].Year)\n",
        "\n",
        "print(\"India won their first gold medal in\",first)\n",
        "\n"
      ],
      "execution_count": 45,
      "outputs": [
        {
          "output_type": "stream",
          "name": "stdout",
          "text": [
            "India won their first gold medal in 1928\n"
          ]
        }
      ]
    },
    {
      "cell_type": "markdown",
      "metadata": {
        "id": "2sMvVvf9vDYY"
      },
      "source": [
        "## 7. Which event is most popular in terms of number of players? (Top 5)"
      ]
    },
    {
      "cell_type": "code",
      "metadata": {
        "colab": {
          "base_uri": "https://localhost:8080/",
          "height": 749
        },
        "id": "7Tw6Or17vIg5",
        "outputId": "979e6c63-f2be-44e9-cad8-890c9c4c89bd"
      },
      "source": [
        "data = []\n",
        "\n",
        "for event in df['Event'].unique():\n",
        "    data.append([event , len(df[df['Event']  == event])])\n",
        "\n",
        "\n",
        "\n",
        "pd.DataFrame(data,columns = ['Event','Players']).sort_values(by='Players', ascending=False).head().plot(x = 'Event', y = 'Players', kind = 'bar', figsize = (5,5))\n",
        "\n",
        "pd.DataFrame(data,columns = ['Event','Players']).sort_values(by='Players', ascending=False).head().plot(x = 'Event', y = 'Players', kind = 'line', figsize = (10,5))\n"
      ],
      "execution_count": 36,
      "outputs": [
        {
          "output_type": "execute_result",
          "data": {
            "text/plain": [
              "<matplotlib.axes._subplots.AxesSubplot at 0x7f424c8db510>"
            ]
          },
          "metadata": {},
          "execution_count": 36
        },
        {
          "output_type": "display_data",
          "data": {
            "image/png": "[encoded data removed]",
            "text/plain": [
              "<Figure size 360x360 with 1 Axes>"
            ]
          },
          "metadata": {
            "needs_background": "light"
          }
        },
        {
          "output_type": "display_data",
          "data": {
            "image/png": "[encoded data removed]",
            "text/plain": [
              "<Figure size 720x360 with 1 Axes>"
            ]
          },
          "metadata": {
            "needs_background": "light"
          }
        }
      ]
    },
    {
      "cell_type": "markdown",
      "metadata": {
        "id": "C8d26yUFyOel"
      },
      "source": [
        "## 8. Which sport is having most female Gold Medalists? (Top 5)"
      ]
    },
    {
      "cell_type": "code",
      "metadata": {
        "colab": {
          "base_uri": "https://localhost:8080/",
          "height": 385
        },
        "id": "pX_qkG0XyVgH",
        "outputId": "65a72788-93c6-4805-f09d-729b1e297fe4"
      },
      "source": [
        "data = df[df['Gender'] == 'Women']\n",
        "\n",
        "ops = data[data['Medal']=='Gold']\n",
        "\n",
        "ops = ops['Sport'].value_counts().head()\n",
        "\n",
        "data.loc[data['Medal'] == 'Gold', 'Sport'].value_counts().head().plot.bar(figsize=(10,5))"
      ],
      "execution_count": 15,
      "outputs": [
        {
          "output_type": "execute_result",
          "data": {
            "text/plain": [
              "<matplotlib.axes._subplots.AxesSubplot at 0x7f424cfca2d0>"
            ]
          },
          "metadata": {},
          "execution_count": 15
        },
        {
          "output_type": "display_data",
          "data": {
            "image/png": "[encoded data removed]",
            "text/plain": [
              "<Figure size 720x360 with 1 Axes>"
            ]
          },
          "metadata": {
            "needs_background": "light"
          }
        }
      ]
    }
  ]
}